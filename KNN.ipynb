{
  "nbformat": 4,
  "nbformat_minor": 0,
  "metadata": {
    "colab": {
      "name": "KNN.ipynb",
      "version": "0.3.2",
      "provenance": [],
      "collapsed_sections": [],
      "include_colab_link": true
    },
    "kernelspec": {
      "name": "python3",
      "display_name": "Python 3"
    }
  },
  "cells": [
    {
      "cell_type": "markdown",
      "metadata": {
        "id": "view-in-github",
        "colab_type": "text"
      },
      "source": [
        "<a href=\"https://colab.research.google.com/github/rizkiar00/K-Nearest-Neighbour/blob/master/KNN.ipynb\" target=\"_parent\"><img src=\"https://colab.research.google.com/assets/colab-badge.svg\" alt=\"Open In Colab\"/></a>"
      ]
    },
    {
      "metadata": {
        "id": "LLkqo9FtiJqo",
        "colab_type": "code",
        "outputId": "d077492e-0b91-4d37-ca47-3d3ac0d21382",
        "colab": {
          "base_uri": "https://localhost:8080/",
          "height": 118
        }
      },
      "cell_type": "code",
      "source": [
        "import numpy as np\n",
        "import pandas as pd\n",
        "import matplotlib.pyplot as plt; \n",
        "from google.colab import files\n",
        "from sklearn.preprocessing import StandardScaler\n",
        "from sklearn.model_selection import train_test_split\n",
        "import math\n",
        "import operator \n",
        "%matplotlib inline\n",
        "!git clone https://github.com/rizkiar00/K-Nearest-Neighbour"
      ],
      "execution_count": 1,
      "outputs": [
        {
          "output_type": "stream",
          "text": [
            "Cloning into 'K-Nearest-Neighbour'...\n",
            "remote: Enumerating objects: 37, done.\u001b[K\n",
            "remote: Counting objects: 100% (37/37), done.\u001b[K\n",
            "remote: Compressing objects: 100% (37/37), done.\u001b[K\n",
            "remote: Total 37 (delta 14), reused 0 (delta 0), pack-reused 0\u001b[K\n",
            "Unpacking objects: 100% (37/37), done.\n"
          ],
          "name": "stdout"
        }
      ]
    },
    {
      "metadata": {
        "id": "ZtYsOvMnk7OD",
        "colab_type": "code",
        "outputId": "0fcd3739-8e02-4510-d41c-9f35997d50a5",
        "colab": {
          "base_uri": "https://localhost:8080/",
          "height": 235
        }
      },
      "cell_type": "code",
      "source": [
        "data = pd.read_csv('K-Nearest-Neighbour/DataTrain_Tugas3_AI.csv',skipinitialspace=True,usecols = [1,2,3,4,5,6]) #Masukkan Data dan Buat Data Training\n",
        "scaler = StandardScaler() #Buat Standarisasi Data(Gak Wajib)\n",
        "scaler.fit(data.drop('Y',axis=1))\n",
        "scaled_features = scaler.transform(data.drop('Y',axis=1)) #Standarisasi Data\n",
        "array = np.array(data['Y'])\n",
        "training = np.append(scaled_features,np.array(array[:, None]),axis=1)\n",
        "training"
      ],
      "execution_count": 2,
      "outputs": [
        {
          "output_type": "execute_result",
          "data": {
            "text/plain": [
              "array([[-1.56718539, -0.63126978,  0.3100288 ,  0.74183408,  0.13848686,\n",
              "         1.        ],\n",
              "       [ 0.00494917, -0.03183679, -1.00939645, -0.44100955, -0.56845289,\n",
              "         0.        ],\n",
              "       [-0.67046181, -0.24204009,  1.02504804,  0.12291363, -0.47943838,\n",
              "         1.        ],\n",
              "       ...,\n",
              "       [ 1.10316536, -1.3170963 , -0.46049094,  0.77378754,  1.27127779,\n",
              "         2.        ],\n",
              "       [ 0.19114389,  2.77322532, -2.36582892,  0.50094108,  1.06312669,\n",
              "         3.        ],\n",
              "       [ 0.73275265, -0.3298688 ,  1.44404221,  0.08440413, -0.91688812,\n",
              "         3.        ]])"
            ]
          },
          "metadata": {
            "tags": []
          },
          "execution_count": 2
        }
      ]
    },
    {
      "metadata": {
        "id": "BXyQ1hVZnEPa",
        "colab_type": "code",
        "colab": {}
      },
      "cell_type": "code",
      "source": [
        "#datasisa = datatraining.drop(datasample.index) #Buat data yang ada datatraining tapi tidak ada di datasample\n",
        "#datasisahasil = datasisa.pop('Y') #Pisahin inputan sama output\n",
        "#datasamplehasil = datasample.pop('Y')\n",
        "def euclideanDistance(instance1, instance2, length):\n",
        "  distance = 0\n",
        "  for x in range(length):\n",
        "    distance += pow((instance1[x] - instance2[x]), 2)\n",
        "  return math.sqrt(distance)\n",
        "\n",
        "def getNeighbors(trainingSet, testInstance, k):\n",
        "  distances = []\n",
        "  length = len(testInstance)-1\n",
        "  for x in range(len(trainingSet)):\n",
        "    dist = euclideanDistance(testInstance, trainingSet[x], length)\n",
        "    distances.append((trainingSet[x], dist))\n",
        "  distances.sort(key=operator.itemgetter(1))\n",
        "  neighbors = []\n",
        "  for x in range(k):\n",
        "    neighbors.append(distances[x][0])\n",
        "  return neighbors\n",
        "\n",
        "def getResponse(neighbors):\n",
        "  classVotes = {}\n",
        "  for x in range(len(neighbors)):\n",
        "    response = neighbors[x][-1]\n",
        "    if response in classVotes:\n",
        "      classVotes[response] += 1\n",
        "    else:\n",
        "      classVotes[response] = 1\n",
        "  arr = np.array(classVotes.items())\n",
        "  sortedVotes = sorted(classVotes.items(), key=operator.itemgetter(1), reverse=True)\n",
        "  return sortedVotes[0][0]\n",
        "\n",
        "def getAccuracy(testSet, predictions):\n",
        "  correct = 0\n",
        "  for x in range(len(testSet)):\n",
        "    testSet[x][-1]\n",
        "    if testSet[x][-1] == predictions[x]:\n",
        "      correct += 1\n",
        "  return (correct/float(len(testSet))) * 100.0"
      ],
      "execution_count": 0,
      "outputs": []
    },
    {
      "metadata": {
        "id": "4zQZeT2GCkhr",
        "colab_type": "code",
        "outputId": "b4317418-55fb-4085-a592-2447548da6c9",
        "colab": {
          "base_uri": "https://localhost:8080/",
          "height": 252
        }
      },
      "cell_type": "code",
      "source": [
        "#TRAIN YANG BANYAK TEST YANG DIKIT\n",
        "#XTRAIN = INPUT TRAIN. YTRAIN = OUTPUT TRAIN\n",
        "q = 10 #Beraoa kali coba\n",
        "k = 30\n",
        "avgaccuracy=np.zeros(k)\n",
        "for z in range(1,q+1):\n",
        "    X_train, X_test, y_train, y_test = train_test_split(training,data['Y'],test_size=0.20)\n",
        "    y_train = np.array(y_train)\n",
        "    trainingSet = np.append(X_train,y_train[:, None],axis=1)\n",
        "    testSet = np.append(X_test,y_test[:, None],axis=1)\n",
        "    allacuracy=[]\n",
        "    for y in range(1,k+1):\n",
        "        predictions=[]\n",
        "        for x in range(len(testSet)):\n",
        "            neighbors = getNeighbors(trainingSet, X_test[x], y)\n",
        "            result = getResponse(neighbors)\n",
        "            predictions.append(result)\n",
        "        accuracy = getAccuracy(testSet, predictions)\n",
        "        allacuracy.append(accuracy)\n",
        "    print(z)\n",
        "    avgaccuracy+=np.array(allacuracy)\n",
        "avgaccuracy = avgaccuracy / q\n",
        "print(avgaccuracy)"
      ],
      "execution_count": 5,
      "outputs": [
        {
          "output_type": "stream",
          "text": [
            "1\n",
            "2\n",
            "3\n",
            "4\n",
            "5\n",
            "6\n",
            "7\n",
            "8\n",
            "9\n",
            "10\n",
            "[81.9375 81.9375 83.5    84.3125 84.9375 85.6875 86.3125 86.125  85.5625\n",
            " 85.6875 85.875  86.0625 85.3125 85.8125 86.0625 85.5625 85.875  85.25\n",
            " 84.3125 84.8125 84.1875 84.8125 84.375  84.375  84.25   84.375  84.4375\n",
            " 84.25   84.125  84.25  ]\n"
          ],
          "name": "stdout"
        }
      ]
    },
    {
      "metadata": {
        "id": "p-0Et1yL5Izp",
        "colab_type": "code",
        "outputId": "1843332f-4210-4666-c1a3-e97ab265fcd3",
        "colab": {
          "base_uri": "https://localhost:8080/",
          "height": 637
        }
      },
      "cell_type": "code",
      "source": [
        "plt.figure(figsize=(20,10))\n",
        "plt.plot(range(1,k+1),avgaccuracy,color='blue', linestyle='dashed', marker='o',\n",
        "         markerfacecolor='red', markersize=7)\n",
        "plt.title('Accuracy vs. K Value')\n",
        "plt.xlabel('K')\n",
        "plt.ylabel('Accuracy')"
      ],
      "execution_count": 7,
      "outputs": [
        {
          "output_type": "execute_result",
          "data": {
            "text/plain": [
              "Text(0,0.5,'Accuracy')"
            ]
          },
          "metadata": {
            "tags": []
          },
          "execution_count": 7
        },
        {
          "output_type": "display_data",
          "data": {
            "image/png": "[encoded data removed]",
            "text/plain": [
              "<matplotlib.figure.Figure at 0x7fe313ae6908>"
            ]
          },
          "metadata": {
            "tags": []
          }
        }
      ]
    },
    {
      "metadata": {
        "id": "9G_pUoo0xOhx",
        "colab_type": "code",
        "colab": {}
      },
      "cell_type": "code",
      "source": [
        "datatest = pd.read_csv('K-Nearest-Neighbour/DataTest_Tugas3_AI.csv',skipinitialspace=True,usecols = [1,2,3,4,5,6])\n",
        "scaler = StandardScaler() #Buat Standarisasi Data(Gak Wajib)\n",
        "scaler.fit(datatest.drop('Y',axis=1))\n",
        "scaled_features = scaler.transform(datatest.drop('Y',axis=1)) #Standarisasi Data\n",
        "test = scaled_features\n"
      ],
      "execution_count": 0,
      "outputs": []
    },
    {
      "metadata": {
        "id": "Hmqnl9T2n7vX",
        "colab_type": "code",
        "colab": {}
      },
      "cell_type": "code",
      "source": [
        "predictions = []\n",
        "for x in range(len(test)):\n",
        "      neighbors = getNeighbors(training, test[x], 8)\n",
        "      result = getResponse(neighbors)\n",
        "      predictions.append(result)\n",
        "hasil = pd.DataFrame(data=predictions)\n",
        "hasil.to_csv('TebakanTugas3.csv', sep='\\t', encoding='utf-8',header=None,index=False)\n",
        "files.download('TebakanTugas3.csv')"
      ],
      "execution_count": 0,
      "outputs": []
    }
  ]
}