{
  "nbformat": 4,
  "nbformat_minor": 0,
  "metadata": {
    "colab": {
      "name": "KNN.ipynb",
      "version": "0.3.2",
      "provenance": [],
      "collapsed_sections": [],
      "include_colab_link": true
    },
    "kernelspec": {
      "name": "python3",
      "display_name": "Python 3"
    }
  },
  "cells": [
    {
      "cell_type": "markdown",
      "metadata": {
        "id": "view-in-github",
        "colab_type": "text"
      },
      "source": [
        "<a href=\"https://colab.research.google.com/github/rizkiar00/K-Nearest-Neighbour/blob/master/KNN.ipynb\" target=\"_parent\"><img src=\"https://colab.research.google.com/assets/colab-badge.svg\" alt=\"Open In Colab\"/></a>"
      ]
    },
    {
      "metadata": {
        "id": "LLkqo9FtiJqo",
        "colab_type": "code",
        "outputId": "d9e07b50-968f-469b-aa6a-4cce34fb0aa6",
        "colab": {
          "base_uri": "https://localhost:8080/",
          "height": 34
        }
      },
      "cell_type": "code",
      "source": [
        "import numpy as np\n",
        "import pandas as pd\n",
        "import matplotlib.pyplot as plt; \n",
        "from google.colab import files\n",
        "from sklearn.preprocessing import StandardScaler\n",
        "from sklearn.model_selection import train_test_split\n",
        "import math\n",
        "import operator \n",
        "%matplotlib inline\n",
        "!git clone https://github.com/rizkiar00/K-Nearest-Neighbour"
      ],
      "execution_count": 134,
      "outputs": [
        {
          "output_type": "stream",
          "text": [
            "fatal: destination path 'K-Nearest-Neighbour' already exists and is not an empty directory.\n"
          ],
          "name": "stdout"
        }
      ]
    },
    {
      "metadata": {
        "id": "ZtYsOvMnk7OD",
        "colab_type": "code",
        "outputId": "88018fa3-2fca-44c0-c8a8-181f92aaa177",
        "colab": {
          "base_uri": "https://localhost:8080/",
          "height": 235
        }
      },
      "cell_type": "code",
      "source": [
        "data = pd.read_csv('K-Nearest-Neighbour/DataTrain_Tugas3_AI.csv',skipinitialspace=True,usecols = [1,2,3,4,5,6]) #Masukkan Data dan Buat Data Training\n",
        "scaler = StandardScaler() #Buat Standarisasi Data(Gak Wajib)\n",
        "scaler.fit(data.drop('Y',axis=1))\n",
        "scaled_features = scaler.transform(data.drop('Y',axis=1)) #Standarisasi Data\n",
        "array = np.array(data['Y'])\n",
        "training = np.append(scaled_features,np.array(array[:, None]),axis=1)\n",
        "training"
      ],
      "execution_count": 283,
      "outputs": [
        {
          "output_type": "execute_result",
          "data": {
            "text/plain": [
              "array([[-1.56718539, -0.63126978,  0.3100288 ,  0.74183408,  0.13848686,\n",
              "         1.        ],\n",
              "       [ 0.00494917, -0.03183679, -1.00939645, -0.44100955, -0.56845289,\n",
              "         0.        ],\n",
              "       [-0.67046181, -0.24204009,  1.02504804,  0.12291363, -0.47943838,\n",
              "         1.        ],\n",
              "       ...,\n",
              "       [ 1.10316536, -1.3170963 , -0.46049094,  0.77378754,  1.27127779,\n",
              "         2.        ],\n",
              "       [ 0.19114389,  2.77322532, -2.36582892,  0.50094108,  1.06312669,\n",
              "         3.        ],\n",
              "       [ 0.73275265, -0.3298688 ,  1.44404221,  0.08440413, -0.91688812,\n",
              "         3.        ]])"
            ]
          },
          "metadata": {
            "tags": []
          },
          "execution_count": 283
        }
      ]
    },
    {
      "metadata": {
        "id": "BXyQ1hVZnEPa",
        "colab_type": "code",
        "colab": {}
      },
      "cell_type": "code",
      "source": [
        "#datasisa = datatraining.drop(datasample.index) #Buat data yang ada datatraining tapi tidak ada di datasample\n",
        "#datasisahasil = datasisa.pop('Y') #Pisahin inputan sama output\n",
        "#datasamplehasil = datasample.pop('Y')\n",
        "def euclideanDistance(instance1, instance2, length):\n",
        "  distance = 0\n",
        "  for x in range(length):\n",
        "    distance += pow((instance1[x] - instance2[x]), 2)\n",
        "  return math.sqrt(distance)\n",
        "\n",
        "def getNeighbors(trainingSet, testInstance, k):\n",
        "  distances = []\n",
        "  length = len(testInstance)-1\n",
        "  for x in range(len(trainingSet)):\n",
        "    dist = euclideanDistance(testInstance, trainingSet[x], length)\n",
        "    distances.append((trainingSet[x], dist))\n",
        "  distances.sort(key=operator.itemgetter(1))\n",
        "  neighbors = []\n",
        "  for x in range(k):\n",
        "    neighbors.append(distances[x][0])\n",
        "  return neighbors\n",
        "\n",
        "def getResponse(neighbors):\n",
        "  classVotes = {}\n",
        "  for x in range(len(neighbors)):\n",
        "    response = neighbors[x][-1]\n",
        "    if response in classVotes:\n",
        "      classVotes[response] += 1\n",
        "    else:\n",
        "      classVotes[response] = 1\n",
        "  arr = np.array(classVotes.items())\n",
        "  sortedVotes = sorted(classVotes.items(), key=operator.itemgetter(1), reverse=True)\n",
        "  return sortedVotes[0][0]\n",
        "\n",
        "def getAccuracy(testSet, predictions):\n",
        "  correct = 0\n",
        "  for x in range(len(testSet)):\n",
        "    testSet[x][-1]\n",
        "    if testSet[x][-1] == predictions[x]:\n",
        "      correct += 1\n",
        "  return (correct/float(len(testSet))) * 100.0"
      ],
      "execution_count": 0,
      "outputs": []
    },
    {
      "metadata": {
        "id": "4zQZeT2GCkhr",
        "colab_type": "code",
        "outputId": "2a138129-bf18-44e6-a481-f67240a70a7b",
        "colab": {
          "base_uri": "https://localhost:8080/",
          "height": 101
        }
      },
      "cell_type": "code",
      "source": [
        "#TRAIN YANG BANYAK TEST YANG DIKIT\n",
        "#XTRAIN = INPUT TRAIN. YTRAIN = OUTPUT TRAIN\n",
        "q = 10 #Beraoa kali coba\n",
        "k = 30\n",
        "avgaccuracy=np.zeros(k-1)\n",
        "for z in range(1,q):\n",
        "  X_train, X_test, y_train, y_test = train_test_split(scaled_features,data['Y'],test_size=0.80)\n",
        "  y_train = np.array(y_train)\n",
        "  trainingSet = np.append(X_train,y_train[:, None],axis=1)\n",
        "  testSet = np.append(X_test,y_test[:, None],axis=1)\n",
        "  allacuracy=[]\n",
        "  for y in range(1,k):\n",
        "    predictions=[]\n",
        "    for x in range(len(testSet)):\n",
        "      neighbors = getNeighbors(trainingSet, testSet[x], y)\n",
        "      result = getResponse(neighbors)\n",
        "      predictions.append(result)\n",
        "    accuracy = getAccuracy(testSet, predictions)\n",
        "    allacuracy.append(accuracy)\n",
        "  avgaccuracy+=np.array(allacuracy)\n",
        "avgaccuracy = avgaccuracy / (q-1)\n",
        "print(avgaccuracy)\n"
      ],
      "execution_count": 236,
      "outputs": [
        {
          "output_type": "stream",
          "text": [
            "[77.01388889 77.01388889 80.05208333 81.05902778 80.60763889 81.05902778\n",
            " 80.59027778 80.83333333 80.34722222 80.55555556 80.05208333 79.72222222\n",
            " 79.49652778 79.20138889 78.88888889 78.61111111 78.26388889 77.86458333\n",
            " 77.41319444 77.36111111 77.11805556 76.99652778 76.51041667 76.04166667\n",
            " 75.76388889 75.34722222 75.13888889 74.40972222 74.04513889]\n"
          ],
          "name": "stdout"
        }
      ]
    },
    {
      "metadata": {
        "id": "p-0Et1yL5Izp",
        "colab_type": "code",
        "outputId": "c6bcac04-61a8-429f-e773-e320383c1484",
        "colab": {
          "base_uri": "https://localhost:8080/",
          "height": 637
        }
      },
      "cell_type": "code",
      "source": [
        "plt.figure(figsize=(20,10))\n",
        "plt.plot(range(1,k),avgaccuracy,color='blue', linestyle='dashed', marker='o',\n",
        "         markerfacecolor='red', markersize=7)\n",
        "plt.title('Accuracy vs. K Value')\n",
        "plt.xlabel('K')\n",
        "plt.ylabel('Accuracy')"
      ],
      "execution_count": 237,
      "outputs": [
        {
          "output_type": "execute_result",
          "data": {
            "text/plain": [
              "Text(0,0.5,'Accuracy')"
            ]
          },
          "metadata": {
            "tags": []
          },
          "execution_count": 237
        },
        {
          "output_type": "display_data",
          "data": {
            "image/png": "[encoded data removed]",
            "text/plain": [
              "<matplotlib.figure.Figure at 0x7f4494f53b38>"
            ]
          },
          "metadata": {
            "tags": []
          }
        }
      ]
    },
    {
      "metadata": {
        "id": "9G_pUoo0xOhx",
        "colab_type": "code",
        "colab": {}
      },
      "cell_type": "code",
      "source": [
        "datatest = pd.read_csv('K-Nearest-Neighbour/DataTest_Tugas3_AI.csv',skipinitialspace=True,usecols = [1,2,3,4,5,6])\n",
        "scaler = StandardScaler() #Buat Standarisasi Data(Gak Wajib)\n",
        "scaler.fit(datatest.drop('Y',axis=1))\n",
        "scaled_features = scaler.transform(datatest.drop('Y',axis=1)) #Standarisasi Data\n",
        "test = scaled_features\n"
      ],
      "execution_count": 0,
      "outputs": []
    },
    {
      "metadata": {
        "id": "Hmqnl9T2n7vX",
        "colab_type": "code",
        "colab": {}
      },
      "cell_type": "code",
      "source": [
        "predictions = []\n",
        "for x in range(len(test)):\n",
        "      neighbors = getNeighbors(training, test[x], 6)\n",
        "      result = getResponse(neighbors)\n",
        "      predictions.append(result)\n",
        "hasil = pd.DataFrame(data=predictions)\n",
        "hasil.to_csv('TebakanTugas3.csv', sep='\\t', encoding='utf-8',header=None,index=False)\n",
        "files.download('TebakanTugas3.csv')"
      ],
      "execution_count": 0,
      "outputs": []
    }
  ]
}