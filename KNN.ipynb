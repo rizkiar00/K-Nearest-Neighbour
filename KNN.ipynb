{
  "nbformat": 4,
  "nbformat_minor": 0,
  "metadata": {
    "colab": {
      "name": "KNN.ipynb",
      "version": "0.3.2",
      "provenance": [],
      "collapsed_sections": [],
      "include_colab_link": true
    },
    "kernelspec": {
      "name": "python3",
      "display_name": "Python 3"
    }
  },
  "cells": [
    {
      "cell_type": "markdown",
      "metadata": {
        "id": "view-in-github",
        "colab_type": "text"
      },
      "source": [
        "<a href=\"https://colab.research.google.com/github/rizkiar00/K-Nearest-Neighbour/blob/master/KNN.ipynb\" target=\"_parent\"><img src=\"https://colab.research.google.com/assets/colab-badge.svg\" alt=\"Open In Colab\"/></a>"
      ]
    },
    {
      "metadata": {
        "id": "LLkqo9FtiJqo",
        "colab_type": "code",
        "outputId": "7d3173d1-2131-4c62-eff0-52314b38883e",
        "colab": {
          "base_uri": "https://localhost:8080/",
          "height": 34
        }
      },
      "cell_type": "code",
      "source": [
        "import numpy as np\n",
        "import pandas as pd\n",
        "import matplotlib.pyplot as plt; \n",
        "from google.colab import files\n",
        "#from sklearn.neighbors import KNeighborsClassifier\n",
        "from sklearn.preprocessing import StandardScaler\n",
        "from sklearn.model_selection import train_test_split\n",
        "import math\n",
        "import operator \n",
        "%matplotlib inline\n",
        "!git clone https://github.com/rizkiar00/K-Nearest-Neighbour"
      ],
      "execution_count": 5,
      "outputs": [
        {
          "output_type": "stream",
          "text": [
            "fatal: destination path 'K-Nearest-Neighbour' already exists and is not an empty directory.\n"
          ],
          "name": "stdout"
        }
      ]
    },
    {
      "metadata": {
        "id": "ZtYsOvMnk7OD",
        "colab_type": "code",
        "colab": {
          "base_uri": "https://localhost:8080/",
          "height": 134
        },
        "outputId": "525adaff-7af1-4d40-bdb3-3a386612e775"
      },
      "cell_type": "code",
      "source": [
        "data = pd.read_csv('K-Nearest-Neighbour/DataTrain_Tugas3_AI.csv',skipinitialspace=True,usecols = [1,2,3,4,5,6]) #Masukkan Data dan Buat Data Training\n",
        "scaler = StandardScaler() #Buat Standarisasi Data(Gak Wajib)\n",
        "scaler.fit(data.drop('Y',axis=1))\n",
        "scaled_features = scaler.transform(data.drop('Y',axis=1)) #Standarisasi Data\n",
        "scaled_features"
      ],
      "execution_count": 97,
      "outputs": [
        {
          "output_type": "execute_result",
          "data": {
            "text/plain": [
              "array([[-1.56718539, -0.63126978,  0.3100288 ,  0.74183408,  0.13848686],\n",
              "       [ 0.00494917, -0.03183679, -1.00939645, -0.44100955, -0.56845289],\n",
              "       [-0.67046181, -0.24204009,  1.02504804,  0.12291363, -0.47943838],\n",
              "       ...,\n",
              "       [ 1.10316536, -1.3170963 , -0.46049094,  0.77378754,  1.27127779],\n",
              "       [ 0.19114389,  2.77322532, -2.36582892,  0.50094108,  1.06312669],\n",
              "       [ 0.73275265, -0.3298688 ,  1.44404221,  0.08440413, -0.91688812]])"
            ]
          },
          "metadata": {
            "tags": []
          },
          "execution_count": 97
        }
      ]
    },
    {
      "metadata": {
        "id": "BXyQ1hVZnEPa",
        "colab_type": "code",
        "colab": {}
      },
      "cell_type": "code",
      "source": [
        "#datasisa = datatraining.drop(datasample.index) #Buat data yang ada datatraining tapi tidak ada di datasample\n",
        "#datasisahasil = datasisa.pop('Y') #Pisahin inputan sama output\n",
        "#datasamplehasil = datasample.pop('Y')\n",
        "def euclideanDistance(instance1, instance2, length):\n",
        "\tdistance = 0\n",
        "\tfor x in range(length):\n",
        "\t\tdistance += pow((instance1[x] - instance2[x]), 2)\n",
        "\treturn math.sqrt(distance)\n",
        "\n",
        "def getNeighbors(trainingSet, testInstance, k):\n",
        "\tdistances = []\n",
        "\tlength = len(testInstance)-1\n",
        "\tfor x in range(len(trainingSet)):\n",
        "\t\tdist = euclideanDistance(testInstance, trainingSet[x], length)\n",
        "\t\tdistances.append((trainingSet[x], dist))\n",
        "\tdistances.sort(key=operator.itemgetter(1))\n",
        "\tneighbors = []\n",
        "\tfor x in range(k):\n",
        "\t\tneighbors.append(distances[x][0])\n",
        "\treturn neighbors\n",
        "\n",
        "def getResponse(neighbors):\n",
        "\tclassVotes = {}\n",
        "\tfor x in range(len(neighbors)):\n",
        "\t\tresponse = neighbors[x][-1]\n",
        "\t\tif response in classVotes:\n",
        "\t\t\tclassVotes[response] += 1\n",
        "\t\telse:\n",
        "\t\t\tclassVotes[response] = 1\n",
        "\tsortedVotes = sorted(classVotes.items(), key=operator.itemgetter(1), reverse=True)\n",
        "\treturn sortedVotes[0][0]\n",
        "\n",
        "def getAccuracy(testSet, predictions):\n",
        "\tcorrect = 0\n",
        "\tfor x in range(len(testSet)):\n",
        "\t\ttestSet[x][-1]\n",
        "\t\tif testSet[x][-1] == predictions[x]:\n",
        "\t\t\tcorrect += 1\n",
        "\treturn (correct/float(len(testSet))) * 100.0"
      ],
      "execution_count": 0,
      "outputs": []
    },
    {
      "metadata": {
        "id": "2kHBDgqQZoBp",
        "colab_type": "code",
        "colab": {}
      },
      "cell_type": "code",
      "source": [
        "#p = 20 #Berapa kali coba\n",
        "#q = 40 #Maks K yang dicoba\n",
        "#avgerror_rate = np.zeros(q-1)\n",
        "#for j in range (1,p):\n",
        "  #X_train, X_test, y_train, y_test = train_test_split(scaled_features,data['Y'],test_size=0.80)\n",
        "  #error_rate = []\n",
        "  #for i in range(1,q):\n",
        "    #knn = KNeighborsClassifier(n_neighbors=i,weights = 'distance')#Jumlah tetangga,semakin deket semakin pengaruh\n",
        "    #knn.fit(X_train,y_train)\n",
        "    #pred_i = knn.predict(X_test)\n",
        "    #error_rate.append(np.mean(pred_i != y_test))\n",
        "  #avgerror_rate = avgerror_rate + error_rate\n",
        "#avgerror_rate = avgerror_rate/p"
      ],
      "execution_count": 0,
      "outputs": []
    },
    {
      "metadata": {
        "id": "4zQZeT2GCkhr",
        "colab_type": "code",
        "colab": {}
      },
      "cell_type": "code",
      "source": [
        ""
      ],
      "execution_count": 0,
      "outputs": []
    },
    {
      "metadata": {
        "id": "_ylBFpihAfTj",
        "colab_type": "code",
        "colab": {
          "base_uri": "https://localhost:8080/",
          "height": 336
        },
        "outputId": "cdb07d15-9ad8-425f-d709-785593c3e6d8"
      },
      "cell_type": "code",
      "source": [
        "predictions=[]\n",
        "k = 20\n",
        "X_train, X_test, y_train, y_test = train_test_split(scaled_features,data['Y'],test_size=0.80)\n",
        "y_train = np.array(y_train)\n",
        "testSet = np.append(X_train,y_train[:, None],axis=1)\n",
        "trainingSet = np.append(X_test,y_test[:, None],axis=1)\n",
        "for y in range(1,k):\n",
        "  for x in range(len(testSet)):\n",
        "    neighbors = getNeighbors(trainingSet, testSet[x], y)\n",
        "    result = getResponse(neighbors)\n",
        "    predictions.append(result)\n",
        "  accuracy = getAccuracy(testSet, predictions)\n",
        "  print('Accuracy: ' + repr(accuracy) + '%')"
      ],
      "execution_count": 114,
      "outputs": [
        {
          "output_type": "stream",
          "text": [
            "Accuracy: 86.25%\n",
            "Accuracy: 86.25%\n",
            "Accuracy: 86.25%\n",
            "Accuracy: 86.25%\n",
            "Accuracy: 86.25%\n",
            "Accuracy: 86.25%\n",
            "Accuracy: 86.25%\n",
            "Accuracy: 86.25%\n",
            "Accuracy: 86.25%\n",
            "Accuracy: 86.25%\n",
            "Accuracy: 86.25%\n",
            "Accuracy: 86.25%\n",
            "Accuracy: 86.25%\n",
            "Accuracy: 86.25%\n",
            "Accuracy: 86.25%\n",
            "Accuracy: 86.25%\n",
            "Accuracy: 86.25%\n",
            "Accuracy: 86.25%\n",
            "Accuracy: 86.25%\n"
          ],
          "name": "stdout"
        }
      ]
    },
    {
      "metadata": {
        "id": "p-0Et1yL5Izp",
        "colab_type": "code",
        "outputId": "5256dd01-48db-4eca-a530-a54162daabea",
        "colab": {
          "base_uri": "https://localhost:8080/",
          "height": 637
        }
      },
      "cell_type": "code",
      "source": [
        "plt.figure(figsize=(20,10))\n",
        "plt.plot(range(1,q),error_rate,color='blue', linestyle='dashed', marker='o',\n",
        "         markerfacecolor='red', markersize=7)\n",
        "plt.title('Error Rate vs. K Value')\n",
        "plt.xlabel('K')\n",
        "plt.ylabel('Error Rate')"
      ],
      "execution_count": 0,
      "outputs": [
        {
          "output_type": "execute_result",
          "data": {
            "text/plain": [
              "Text(0,0.5,'Error Rate')"
            ]
          },
          "metadata": {
            "tags": []
          },
          "execution_count": 34
        },
        {
          "output_type": "display_data",
          "data": {
            "image/png": "[encoded data removed]",
            "text/plain": [
              "<matplotlib.figure.Figure at 0x7f5ba2257e10>"
            ]
          },
          "metadata": {
            "tags": []
          }
        }
      ]
    },
    {
      "metadata": {
        "id": "9G_pUoo0xOhx",
        "colab_type": "code",
        "outputId": "12962cbe-8f8e-459f-e5a0-ed29246e6d7e",
        "colab": {
          "base_uri": "https://localhost:8080/",
          "height": 1058
        }
      },
      "cell_type": "code",
      "source": [
        "datatest = pd.read_csv('K-Nearest-Neighbour/DataTest_Tugas3_AI.csv',skipinitialspace=True)\n",
        "datatesthasil = datatest.pop('Y')\n",
        "datatesthasil"
      ],
      "execution_count": 0,
      "outputs": [
        {
          "output_type": "execute_result",
          "data": {
            "text/plain": [
              "0      ?\n",
              "1      ?\n",
              "2      ?\n",
              "3      ?\n",
              "4      ?\n",
              "5      ?\n",
              "6      ?\n",
              "7      ?\n",
              "8      ?\n",
              "9      ?\n",
              "10     ?\n",
              "11     ?\n",
              "12     ?\n",
              "13     ?\n",
              "14     ?\n",
              "15     ?\n",
              "16     ?\n",
              "17     ?\n",
              "18     ?\n",
              "19     ?\n",
              "20     ?\n",
              "21     ?\n",
              "22     ?\n",
              "23     ?\n",
              "24     ?\n",
              "25     ?\n",
              "26     ?\n",
              "27     ?\n",
              "28     ?\n",
              "29     ?\n",
              "      ..\n",
              "170    ?\n",
              "171    ?\n",
              "172    ?\n",
              "173    ?\n",
              "174    ?\n",
              "175    ?\n",
              "176    ?\n",
              "177    ?\n",
              "178    ?\n",
              "179    ?\n",
              "180    ?\n",
              "181    ?\n",
              "182    ?\n",
              "183    ?\n",
              "184    ?\n",
              "185    ?\n",
              "186    ?\n",
              "187    ?\n",
              "188    ?\n",
              "189    ?\n",
              "190    ?\n",
              "191    ?\n",
              "192    ?\n",
              "193    ?\n",
              "194    ?\n",
              "195    ?\n",
              "196    ?\n",
              "197    ?\n",
              "198    ?\n",
              "199    ?\n",
              "Name: Y, Length: 200, dtype: object"
            ]
          },
          "metadata": {
            "tags": []
          },
          "execution_count": 104
        }
      ]
    }
  ]
}